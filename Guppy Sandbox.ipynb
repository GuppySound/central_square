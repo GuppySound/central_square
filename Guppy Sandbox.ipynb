{
 "cells": [
  {
   "cell_type": "code",
   "execution_count": 1,
   "metadata": {},
   "outputs": [],
   "source": [
    "import requests"
   ]
  },
  {
   "cell_type": "code",
   "execution_count": 36,
   "metadata": {},
   "outputs": [],
   "source": [
    "token = 'AQAasCQLjelWDw05cchcd8ATfi9_ZDhOC4k2IVbbcYo89y9qwHQ5hCcBA4gJIw7YB5BCSNWePwwQ6omZskrpTJ8dg7Kxk9Ue_GtuoQz5kIjv__f8F1DJR0D0gBHe9B63MiRc6LdtcV8ZglR_9gz_1VsWXrNUxUESPUYXKlJOM9lWLfbMLcvuX4xp9uRYx2z84ybHtXUrtsurpARoNeklJtGhs93lgFiD-5gmPfkhpYpZ9xtkBP3D7IAp5WNdNl6CxhBV6Pc15ktQuUjGYAiakZs'\n",
    "\n",
    "\n"
   ]
  },
  {
   "cell_type": "code",
   "execution_count": 40,
   "metadata": {},
   "outputs": [],
   "source": [
    "server_resp = requests.get(\n",
    "    'https://iconic-hue-273619.appspot.com/auth/getTokens',\n",
    "    params={'code': token, 'redirect_uri': 'http://10.0.0.40:8080'}\n",
    ")"
   ]
  },
  {
   "cell_type": "code",
   "execution_count": 41,
   "metadata": {},
   "outputs": [
    {
     "data": {
      "text/plain": [
       "<Response [200]>"
      ]
     },
     "execution_count": 41,
     "metadata": {},
     "output_type": "execute_result"
    }
   ],
   "source": [
    "server_resp"
   ]
  },
  {
   "cell_type": "code",
   "execution_count": 42,
   "metadata": {},
   "outputs": [
    {
     "data": {
      "text/plain": [
       "{'error': 'invalid_grant', 'error_description': 'Authorization code expired'}"
      ]
     },
     "execution_count": 42,
     "metadata": {},
     "output_type": "execute_result"
    }
   ],
   "source": [
    "server_resp.json()"
   ]
  },
  {
   "cell_type": "code",
   "execution_count": null,
   "metadata": {},
   "outputs": [],
   "source": [
    "http://127.0.0.1:8080/?code=AQDSBOP3FreVomhkx22z2qYDTn2mF4jnwK-WwumuqVBcUPV4KrV1QwUjE071dqJMGuJbub3QXCVZPPTf1n9xAhJlt9BCNuYfhL130h0SgbqS5lelLTCHR976fb7dAqeu1TOHedarwuNSo6DoNpDIUqYDgD6mlZIbjLn9vpMnezW-WL0RZ9rpbOTcGf4ZGbjjd8EaKiPgqlP3xKQTleFVI2LLTbe1vCjaMG7N_V-iYZQaFTHjZAE_5r7SuzXkIBaP_G6vyW768ZLd8JUNAz6n1oA"
   ]
  },
  {
   "cell_type": "code",
   "execution_count": 20,
   "metadata": {},
   "outputs": [
    {
     "data": {
      "text/plain": [
       "'f'"
      ]
     },
     "execution_count": 20,
     "metadata": {},
     "output_type": "execute_result"
    }
   ],
   "source": [
    "'f' or 'hiZ'"
   ]
  },
  {
   "cell_type": "code",
   "execution_count": null,
   "metadata": {},
   "outputs": [],
   "source": []
  }
 ],
 "metadata": {
  "kernelspec": {
   "display_name": "Python 3",
   "language": "python",
   "name": "python3"
  },
  "language_info": {
   "codemirror_mode": {
    "name": "ipython",
    "version": 3
   },
   "file_extension": ".py",
   "mimetype": "text/x-python",
   "name": "python",
   "nbconvert_exporter": "python",
   "pygments_lexer": "ipython3",
   "version": "3.6.10"
  }
 },
 "nbformat": 4,
 "nbformat_minor": 4
}
